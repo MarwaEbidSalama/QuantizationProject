{
 "cells": [
  {
   "cell_type": "code",
   "execution_count": 9,
   "id": "ebc31c01",
   "metadata": {},
   "outputs": [],
   "source": [
    "from transformers import AutoModelForCausalLM, AutoTokenizer\n",
    "import torch\n",
    "from auto_gptq import AutoGPTQForCausalLM, BaseQuantizeConfig\n",
    "os.environ[\"CUDA_DEVICE_ORDER\"] = \"PCI_BUS_ID\"\n",
    "os.environ[\"PYTORCH_CUDA_ALLOC_CONF\"] = \"expandable_segments:True\"\n"
   ]
  },
  {
   "cell_type": "code",
   "execution_count": 10,
   "id": "5cf3f252",
   "metadata": {},
   "outputs": [
    {
     "name": "stdout",
     "output_type": "stream",
     "text": [
      "CUDA available: True\n",
      "GPU: Quadro RTX 3000\n"
     ]
    }
   ],
   "source": [
    "# Cell 1: Setup with proper GPU usage\n",
    "import torch\n",
    "from transformers import AutoTokenizer\n",
    "from auto_gptq import AutoGPTQForCausalLM, BaseQuantizeConfig\n",
    "\n",
    "pretrained_model_dir = \"TinyLlama/TinyLlama-1.1B-Chat-v1.0\"\n",
    "quantized_model_dir = \"tinyllama-4bit-128g\"\n",
    "\n",
    "print(f\"CUDA available: {torch.cuda.is_available()}\")\n",
    "print(f\"GPU: {torch.cuda.get_device_name(0) if torch.cuda.is_available() else 'None'}\")"
   ]
  },
  {
   "cell_type": "code",
   "execution_count": 11,
   "id": "586799b1",
   "metadata": {},
   "outputs": [
    {
     "name": "stdout",
     "output_type": "stream",
     "text": [
      "✅ Setup completed\n"
     ]
    }
   ],
   "source": [
    "# Cell 2: Prepare examples and config\n",
    "tokenizer = AutoTokenizer.from_pretrained(pretrained_model_dir, use_fast=True)\n",
    "\n",
    "examples = [\n",
    "    tokenizer(\"TinyLlama is an easy-to-use model quantization library with user-friendly apis, based on GPTQ algorithm.\")\n",
    "]\n",
    "\n",
    "quantize_config = BaseQuantizeConfig(\n",
    "    bits=4,\n",
    "    group_size=128,\n",
    "    desc_act=False,\n",
    ")\n",
    "\n",
    "print(\"✅ Setup completed\")"
   ]
  },
  {
   "cell_type": "code",
   "execution_count": 16,
   "id": "e3be9f9a",
   "metadata": {},
   "outputs": [
    {
     "name": "stdout",
     "output_type": "stream",
     "text": [
      "Loading model on GPU...\n"
     ]
    },
    {
     "name": "stderr",
     "output_type": "stream",
     "text": [
      "c:\\Users\\marwa\\miniconda3\\envs\\gptq_quantize_fixed\\lib\\site-packages\\huggingface_hub\\file_download.py:945: FutureWarning: `resume_download` is deprecated and will be removed in version 1.0.0. Downloads always resume when possible. If you want to force a new download, use `force_download=True`.\n",
      "  warnings.warn(\n"
     ]
    },
    {
     "name": "stdout",
     "output_type": "stream",
     "text": [
      "✅ Model loaded successfully\n"
     ]
    }
   ],
   "source": [
    "# Cell 3: Load model (let it use GPU)\n",
    "print(\"Loading model on GPU...\")\n",
    "\n",
    "model = AutoGPTQForCausalLM.from_pretrained(\n",
    "    pretrained_model_dir, \n",
    "    quantize_config\n",
    "\n",
    ")\n",
    "\n",
    "model.cuda() \n",
    "print(\"✅ Model loaded successfully\")"
   ]
  },
  {
   "cell_type": "code",
   "execution_count": 17,
   "id": "5b3a1007",
   "metadata": {},
   "outputs": [
    {
     "name": "stderr",
     "output_type": "stream",
     "text": [
      "INFO - Start quantizing layer 1/22\n",
      "c:\\Users\\marwa\\miniconda3\\envs\\gptq_quantize_fixed\\lib\\site-packages\\transformers\\models\\llama\\modeling_llama.py:602: UserWarning: 1Torch was not compiled with flash attention. (Triggered internally at C:\\actions-runner\\_work\\pytorch\\pytorch\\builder\\windows\\pytorch\\aten\\src\\ATen\\native\\transformers\\cuda\\sdp_utils.cpp:263.)\n",
      "  attn_output = torch.nn.functional.scaled_dot_product_attention(\n",
      "INFO - Quantizing self_attn.k_proj in layer 1/22...\n"
     ]
    },
    {
     "name": "stdout",
     "output_type": "stream",
     "text": [
      "Starting quantization process (CPU only)...\n",
      "⏳ This will take several minutes...\n"
     ]
    },
    {
     "name": "stderr",
     "output_type": "stream",
     "text": [
      "INFO - Quantizing self_attn.v_proj in layer 1/22...\n",
      "INFO - Quantizing self_attn.q_proj in layer 1/22...\n",
      "INFO - Quantizing self_attn.o_proj in layer 1/22...\n",
      "INFO - Quantizing mlp.up_proj in layer 1/22...\n",
      "INFO - Quantizing mlp.gate_proj in layer 1/22...\n",
      "INFO - Quantizing mlp.down_proj in layer 1/22...\n",
      "INFO - Start quantizing layer 2/22\n",
      "INFO - Quantizing self_attn.k_proj in layer 2/22...\n",
      "INFO - Quantizing self_attn.v_proj in layer 2/22...\n",
      "INFO - Quantizing self_attn.q_proj in layer 2/22...\n",
      "INFO - Quantizing self_attn.o_proj in layer 2/22...\n",
      "INFO - Quantizing mlp.up_proj in layer 2/22...\n",
      "INFO - Quantizing mlp.gate_proj in layer 2/22...\n",
      "INFO - Quantizing mlp.down_proj in layer 2/22...\n",
      "INFO - Start quantizing layer 3/22\n",
      "INFO - Quantizing self_attn.k_proj in layer 3/22...\n",
      "INFO - Quantizing self_attn.v_proj in layer 3/22...\n",
      "INFO - Quantizing self_attn.q_proj in layer 3/22...\n",
      "INFO - Quantizing self_attn.o_proj in layer 3/22...\n",
      "INFO - Quantizing mlp.up_proj in layer 3/22...\n",
      "INFO - Quantizing mlp.gate_proj in layer 3/22...\n",
      "INFO - Quantizing mlp.down_proj in layer 3/22...\n",
      "INFO - Start quantizing layer 4/22\n",
      "INFO - Quantizing self_attn.k_proj in layer 4/22...\n",
      "INFO - Quantizing self_attn.v_proj in layer 4/22...\n",
      "INFO - Quantizing self_attn.q_proj in layer 4/22...\n",
      "INFO - Quantizing self_attn.o_proj in layer 4/22...\n",
      "INFO - Quantizing mlp.up_proj in layer 4/22...\n",
      "INFO - Quantizing mlp.gate_proj in layer 4/22...\n",
      "INFO - Quantizing mlp.down_proj in layer 4/22...\n",
      "INFO - Start quantizing layer 5/22\n",
      "INFO - Quantizing self_attn.k_proj in layer 5/22...\n",
      "INFO - Quantizing self_attn.v_proj in layer 5/22...\n",
      "INFO - Quantizing self_attn.q_proj in layer 5/22...\n",
      "INFO - Quantizing self_attn.o_proj in layer 5/22...\n",
      "INFO - Quantizing mlp.up_proj in layer 5/22...\n",
      "INFO - Quantizing mlp.gate_proj in layer 5/22...\n",
      "INFO - Quantizing mlp.down_proj in layer 5/22...\n",
      "INFO - Start quantizing layer 6/22\n",
      "INFO - Quantizing self_attn.k_proj in layer 6/22...\n",
      "INFO - Quantizing self_attn.v_proj in layer 6/22...\n",
      "INFO - Quantizing self_attn.q_proj in layer 6/22...\n",
      "INFO - Quantizing self_attn.o_proj in layer 6/22...\n",
      "INFO - Quantizing mlp.up_proj in layer 6/22...\n",
      "INFO - Quantizing mlp.gate_proj in layer 6/22...\n",
      "INFO - Quantizing mlp.down_proj in layer 6/22...\n",
      "INFO - Start quantizing layer 7/22\n",
      "INFO - Quantizing self_attn.k_proj in layer 7/22...\n",
      "INFO - Quantizing self_attn.v_proj in layer 7/22...\n",
      "INFO - Quantizing self_attn.q_proj in layer 7/22...\n",
      "INFO - Quantizing self_attn.o_proj in layer 7/22...\n",
      "INFO - Quantizing mlp.up_proj in layer 7/22...\n",
      "INFO - Quantizing mlp.gate_proj in layer 7/22...\n",
      "INFO - Quantizing mlp.down_proj in layer 7/22...\n",
      "INFO - Start quantizing layer 8/22\n",
      "INFO - Quantizing self_attn.k_proj in layer 8/22...\n",
      "INFO - Quantizing self_attn.v_proj in layer 8/22...\n",
      "INFO - Quantizing self_attn.q_proj in layer 8/22...\n",
      "INFO - Quantizing self_attn.o_proj in layer 8/22...\n",
      "INFO - Quantizing mlp.up_proj in layer 8/22...\n",
      "INFO - Quantizing mlp.gate_proj in layer 8/22...\n",
      "INFO - Quantizing mlp.down_proj in layer 8/22...\n",
      "INFO - Start quantizing layer 9/22\n",
      "INFO - Quantizing self_attn.k_proj in layer 9/22...\n",
      "INFO - Quantizing self_attn.v_proj in layer 9/22...\n",
      "INFO - Quantizing self_attn.q_proj in layer 9/22...\n",
      "INFO - Quantizing self_attn.o_proj in layer 9/22...\n",
      "INFO - Quantizing mlp.up_proj in layer 9/22...\n",
      "INFO - Quantizing mlp.gate_proj in layer 9/22...\n",
      "INFO - Quantizing mlp.down_proj in layer 9/22...\n",
      "INFO - Start quantizing layer 10/22\n",
      "INFO - Quantizing self_attn.k_proj in layer 10/22...\n",
      "INFO - Quantizing self_attn.v_proj in layer 10/22...\n",
      "INFO - Quantizing self_attn.q_proj in layer 10/22...\n",
      "INFO - Quantizing self_attn.o_proj in layer 10/22...\n",
      "INFO - Quantizing mlp.up_proj in layer 10/22...\n",
      "INFO - Quantizing mlp.gate_proj in layer 10/22...\n",
      "INFO - Quantizing mlp.down_proj in layer 10/22...\n",
      "INFO - Start quantizing layer 11/22\n",
      "INFO - Quantizing self_attn.k_proj in layer 11/22...\n",
      "INFO - Quantizing self_attn.v_proj in layer 11/22...\n",
      "INFO - Quantizing self_attn.q_proj in layer 11/22...\n",
      "INFO - Quantizing self_attn.o_proj in layer 11/22...\n",
      "INFO - Quantizing mlp.up_proj in layer 11/22...\n",
      "INFO - Quantizing mlp.gate_proj in layer 11/22...\n",
      "INFO - Quantizing mlp.down_proj in layer 11/22...\n",
      "INFO - Start quantizing layer 12/22\n",
      "INFO - Quantizing self_attn.k_proj in layer 12/22...\n",
      "INFO - Quantizing self_attn.v_proj in layer 12/22...\n",
      "INFO - Quantizing self_attn.q_proj in layer 12/22...\n",
      "INFO - Quantizing self_attn.o_proj in layer 12/22...\n",
      "INFO - Quantizing mlp.up_proj in layer 12/22...\n",
      "INFO - Quantizing mlp.gate_proj in layer 12/22...\n",
      "INFO - Quantizing mlp.down_proj in layer 12/22...\n",
      "INFO - Start quantizing layer 13/22\n",
      "INFO - Quantizing self_attn.k_proj in layer 13/22...\n",
      "INFO - Quantizing self_attn.v_proj in layer 13/22...\n",
      "INFO - Quantizing self_attn.q_proj in layer 13/22...\n",
      "INFO - Quantizing self_attn.o_proj in layer 13/22...\n",
      "INFO - Quantizing mlp.up_proj in layer 13/22...\n",
      "INFO - Quantizing mlp.gate_proj in layer 13/22...\n",
      "INFO - Quantizing mlp.down_proj in layer 13/22...\n",
      "INFO - Start quantizing layer 14/22\n",
      "INFO - Quantizing self_attn.k_proj in layer 14/22...\n",
      "INFO - Quantizing self_attn.v_proj in layer 14/22...\n",
      "INFO - Quantizing self_attn.q_proj in layer 14/22...\n",
      "INFO - Quantizing self_attn.o_proj in layer 14/22...\n",
      "INFO - Quantizing mlp.up_proj in layer 14/22...\n",
      "INFO - Quantizing mlp.gate_proj in layer 14/22...\n",
      "INFO - Quantizing mlp.down_proj in layer 14/22...\n",
      "INFO - Start quantizing layer 15/22\n",
      "INFO - Quantizing self_attn.k_proj in layer 15/22...\n",
      "INFO - Quantizing self_attn.v_proj in layer 15/22...\n",
      "INFO - Quantizing self_attn.q_proj in layer 15/22...\n",
      "INFO - Quantizing self_attn.o_proj in layer 15/22...\n",
      "INFO - Quantizing mlp.up_proj in layer 15/22...\n",
      "INFO - Quantizing mlp.gate_proj in layer 15/22...\n",
      "INFO - Quantizing mlp.down_proj in layer 15/22...\n",
      "INFO - Start quantizing layer 16/22\n",
      "INFO - Quantizing self_attn.k_proj in layer 16/22...\n",
      "INFO - Quantizing self_attn.v_proj in layer 16/22...\n",
      "INFO - Quantizing self_attn.q_proj in layer 16/22...\n",
      "INFO - Quantizing self_attn.o_proj in layer 16/22...\n",
      "INFO - Quantizing mlp.up_proj in layer 16/22...\n",
      "INFO - Quantizing mlp.gate_proj in layer 16/22...\n",
      "INFO - Quantizing mlp.down_proj in layer 16/22...\n",
      "INFO - Start quantizing layer 17/22\n",
      "INFO - Quantizing self_attn.k_proj in layer 17/22...\n",
      "INFO - Quantizing self_attn.v_proj in layer 17/22...\n",
      "INFO - Quantizing self_attn.q_proj in layer 17/22...\n",
      "INFO - Quantizing self_attn.o_proj in layer 17/22...\n",
      "INFO - Quantizing mlp.up_proj in layer 17/22...\n",
      "INFO - Quantizing mlp.gate_proj in layer 17/22...\n",
      "INFO - Quantizing mlp.down_proj in layer 17/22...\n",
      "INFO - Start quantizing layer 18/22\n",
      "INFO - Quantizing self_attn.k_proj in layer 18/22...\n",
      "INFO - Quantizing self_attn.v_proj in layer 18/22...\n",
      "INFO - Quantizing self_attn.q_proj in layer 18/22...\n",
      "INFO - Quantizing self_attn.o_proj in layer 18/22...\n",
      "INFO - Quantizing mlp.up_proj in layer 18/22...\n",
      "INFO - Quantizing mlp.gate_proj in layer 18/22...\n",
      "INFO - Quantizing mlp.down_proj in layer 18/22...\n",
      "INFO - Start quantizing layer 19/22\n",
      "INFO - Quantizing self_attn.k_proj in layer 19/22...\n",
      "INFO - Quantizing self_attn.v_proj in layer 19/22...\n",
      "INFO - Quantizing self_attn.q_proj in layer 19/22...\n",
      "INFO - Quantizing self_attn.o_proj in layer 19/22...\n",
      "INFO - Quantizing mlp.up_proj in layer 19/22...\n",
      "INFO - Quantizing mlp.gate_proj in layer 19/22...\n",
      "INFO - Quantizing mlp.down_proj in layer 19/22...\n",
      "INFO - Start quantizing layer 20/22\n",
      "INFO - Quantizing self_attn.k_proj in layer 20/22...\n",
      "INFO - Quantizing self_attn.v_proj in layer 20/22...\n",
      "INFO - Quantizing self_attn.q_proj in layer 20/22...\n",
      "INFO - Quantizing self_attn.o_proj in layer 20/22...\n",
      "INFO - Quantizing mlp.up_proj in layer 20/22...\n",
      "INFO - Quantizing mlp.gate_proj in layer 20/22...\n",
      "INFO - Quantizing mlp.down_proj in layer 20/22...\n",
      "INFO - Start quantizing layer 21/22\n",
      "INFO - Quantizing self_attn.k_proj in layer 21/22...\n",
      "INFO - Quantizing self_attn.v_proj in layer 21/22...\n",
      "INFO - Quantizing self_attn.q_proj in layer 21/22...\n",
      "INFO - Quantizing self_attn.o_proj in layer 21/22...\n",
      "INFO - Quantizing mlp.up_proj in layer 21/22...\n",
      "INFO - Quantizing mlp.gate_proj in layer 21/22...\n",
      "INFO - Quantizing mlp.down_proj in layer 21/22...\n",
      "INFO - Start quantizing layer 22/22\n",
      "INFO - Quantizing self_attn.k_proj in layer 22/22...\n",
      "INFO - Quantizing self_attn.v_proj in layer 22/22...\n",
      "INFO - Quantizing self_attn.q_proj in layer 22/22...\n",
      "INFO - Quantizing self_attn.o_proj in layer 22/22...\n",
      "INFO - Quantizing mlp.up_proj in layer 22/22...\n",
      "INFO - Quantizing mlp.gate_proj in layer 22/22...\n",
      "INFO - Quantizing mlp.down_proj in layer 22/22...\n"
     ]
    },
    {
     "name": "stdout",
     "output_type": "stream",
     "text": [
      "✅ Quantization completed!\n"
     ]
    }
   ],
   "source": [
    "# Cell 4: Quantize with full CPU enforcement\n",
    "print(\"Starting quantization process (CPU only)...\")\n",
    "print(\"⏳ This will take several minutes...\")\n",
    "\n",
    "# Set environment to force CPU usage\n",
    "import os\n",
    "os.environ[\"CUDA_VISIBLE_DEVICES\"] = \"\"  # Hide GPU from PyTorch\n",
    "\n",
    "model.quantize(examples)\n",
    "\n",
    "print(\"✅ Quantization completed!\")"
   ]
  },
  {
   "cell_type": "code",
   "execution_count": 19,
   "id": "eb909c66",
   "metadata": {},
   "outputs": [
    {
     "name": "stdout",
     "output_type": "stream",
     "text": [
      "Saving quantized model...\n",
      "✅ Quantized model saved to: tinyllama-4bit-128g\n",
      "📁 Files in tinyllama-4bit-128g:\n",
      "  - config.json\n",
      "  - gptq_model-4bit-128g.safetensors\n",
      "  - quantize_config.json\n"
     ]
    }
   ],
   "source": [
    "# Cell 5: Save the quantized model\n",
    "print(\"Saving quantized model...\")\n",
    "\n",
    "# Save quantized model using safetensors (more compatible)\n",
    "model.save_quantized(quantized_model_dir, use_safetensors=True)\n",
    "\n",
    "print(f\"✅ Quantized model saved to: {quantized_model_dir}\")\n",
    "\n",
    "# Display saved files\n",
    "import os\n",
    "if os.path.exists(quantized_model_dir):\n",
    "    files = os.listdir(quantized_model_dir)\n",
    "    print(f\"📁 Files in {quantized_model_dir}:\")\n",
    "    for file in files:\n",
    "        print(f\"  - {file}\")"
   ]
  },
  {
   "cell_type": "code",
   "execution_count": 21,
   "id": "a965cb30",
   "metadata": {},
   "outputs": [
    {
     "name": "stderr",
     "output_type": "stream",
     "text": [
      "WARNING - ignoring unknown parameter in quantize_config.json: quant_method.\n",
      "INFO - The layer lm_head is not quantized.\n"
     ]
    },
    {
     "name": "stdout",
     "output_type": "stream",
     "text": [
      "Loading quantized model for testing...\n",
      "✅ Quantized model loaded for testing\n"
     ]
    }
   ],
   "source": [
    "# Cell 6: Test the quantized model\n",
    "print(\"Loading quantized model for testing...\")\n",
    "\n",
    "# Load quantized model (use \"cpu\" for Jetson compatibility)\n",
    "model = AutoGPTQForCausalLM.from_quantized(\n",
    "    quantized_model_dir, \n",
    "    use_safetensors=True\n",
    ")\n",
    "\n",
    "print(\"✅ Quantized model loaded for testing\")"
   ]
  },
  {
   "cell_type": "code",
   "execution_count": 22,
   "id": "55959a72",
   "metadata": {},
   "outputs": [
    {
     "name": "stdout",
     "output_type": "stream",
     "text": [
      "Testing inference...\n",
      "🔍 Generated text: TinyLlama is a small, furry, and cuddly lamb that is perfect for kids to hold and c\n"
     ]
    }
   ],
   "source": [
    "# Cell 7: Test inference\n",
    "print(\"Testing inference...\")\n",
    "\n",
    "# Test inference with model.generate\n",
    "test_input = tokenizer(\"TinyLlama is\", return_tensors=\"pt\").to(model.device)\n",
    "output = model.generate(**test_input, max_length=30, do_sample=False, pad_token_id=tokenizer.eos_token_id)\n",
    "generated_text = tokenizer.decode(output[0], skip_special_tokens=True)\n",
    "\n",
    "print(\"🔍 Generated text:\", generated_text)"
   ]
  },
  {
   "cell_type": "code",
   "execution_count": 23,
   "id": "3b9de200",
   "metadata": {},
   "outputs": [
    {
     "data": {
      "text/plain": [
       "('tinyllama-4bit-128g\\\\tokenizer_config.json',\n",
       " 'tinyllama-4bit-128g\\\\special_tokens_map.json',\n",
       " 'tinyllama-4bit-128g\\\\tokenizer.model',\n",
       " 'tinyllama-4bit-128g\\\\added_tokens.json',\n",
       " 'tinyllama-4bit-128g\\\\tokenizer.json')"
      ]
     },
     "execution_count": 23,
     "metadata": {},
     "output_type": "execute_result"
    }
   ],
   "source": [
    "tokenizer.save_pretrained(quantized_model_dir)"
   ]
  }
 ],
 "metadata": {
  "kernelspec": {
   "display_name": "gptq_quantize_fixed",
   "language": "python",
   "name": "python3"
  },
  "language_info": {
   "codemirror_mode": {
    "name": "ipython",
    "version": 3
   },
   "file_extension": ".py",
   "mimetype": "text/x-python",
   "name": "python",
   "nbconvert_exporter": "python",
   "pygments_lexer": "ipython3",
   "version": "3.8.20"
  }
 },
 "nbformat": 4,
 "nbformat_minor": 5
}
